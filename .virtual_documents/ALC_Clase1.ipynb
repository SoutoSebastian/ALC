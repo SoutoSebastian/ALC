


import numpy as np





np.bool_, np.byte, np.ubyte, np.short, np.ushort, np.intc, np.uintc, np.int_, np.uint, np.longlong, np.ulonglong, np.half, np.float16, np.single, np.double, np.longdouble, np.csingle, np.cdouble, np.clongdouble








an_array = np.arange(20)
an_array


an_array.shape


an_array.ndim


an_array.size


an_array.dtype








np.array([1,2,3,4])


np.arange(10,30,2)


np.linspace(0.1,0.5,4)


np.logspace(1,10,10)


np.zeros((3,2))


np.ones((2,3))


np.random.rand(3,2) # random entre 0 y 1


np.random.randint(1,10,(3,2)) # enteros random entre [1 y 10)


np.random.standard_normal((8,2))





an_array = np.ones((2,3))
print('dimensiones: ', an_array.shape)
print('cantidad de dimensiones: ', an_array.ndim)
print('cantidad de elementos: ', an_array.size)
print('tipo: ', an_array.dtype)





np.arange(0,10,0.5)


np.arange(0,10,0.5).astype(np.int32)








a_matrix = np.array([[ 0,  1,  2,  3],
                    [ 4,  5,  6,  7],
                    [ 8,  9, 10, 11],
                    [12, 13, 14, 15]])
a_matrix


print(a_matrix.shape, a_matrix.ndim, a_matrix.size, a_matrix.dtype)





np.eye(3) # Identidad de 3x3


np.diag([77,90]) # Matriz diagonal


np.diag(np.ones(3),1) # Superdiagonal 1


np.vander(np.arange(4),increasing=True) # Matriz de Vandermonde (veremos al final de la materia qué significa)








a_matrix


a_matrix.reshape(1,16)


a_matrix.T


a_matrix.ravel()


a_matrix.resize(1,16)
a_matrix











v = np.arange(1,7)
w = np.ones(6)
v, w


v + w


v > w


v - w


v ** 2


np.sqrt(v)


print(np.sin(v), "\n", np.cos(v), "\n", np.floor(np.cos(v)), "\n", np.round(np.cos(v)))





np.dot(v,w) #Producto iterno (o escalar)


np.outer(v,w) #Producto externo





M1 = np.arange(1,10).reshape(3,3)
M2 = np.ones((3,3))
M1, M2


M1 * M2 #Producto Hadamard o elemento a elemento


np.matmul(M1,M2) #Producto interno de matrices


M1 @ M2 #Producto interno de matrices





...








an_array = np.arange(0,40,2)
an_array


an_array[6]


start = 2
end = 18
step = 2

an_array[start:end:step]


# Son equivalentes
#an_array[0:end:]
#an_array[:end:]
an_array[:end]


an_array[:-1]


an_array[::]


an_array[::-1]


for element in an_array[:5]:
    print(element)


a_matrix = np.arange(16).reshape((4,4))
a_matrix


a_matrix[:,2]


a_matrix[:,1:3]


a_matrix[-1,:]


for row in a_matrix:
    print(row)


a_matrix[1:3,2:4]





import time

an_array = np.arange(4)
mask = np.array([False,True,True,False])
an_array[mask]





an_array = np.arange(100)
an_array


np.array([x for x in an_array if x>50])


an_array[an_array>50]


%timeit np.array([x for x in an_array if x>50])


%timeit an_array[an_array>50]








an_array = np.arange(10)
an_array


another_array = an_array


another_array[3] = 8
an_array





an_array = np.arange(10)
an_array


another_array = an_array.view()


another_array = another_array.reshape((5,2))
another_array


an_array[3] = 8


another_array





another_array = np.arange(10)


an_array = another_array.copy()


an_array[3] = 8


an_array, another_array





np.sum(np.arange(1000)) # suma los elementos de un arreglo


arr = np.arange(16).reshape(4,4,)
np.sum(arr,0) #  de un arreglo 2d, suma solo un eje, el 0, el primero


np.diff(np.arange(10)) # resta elementos consecutivos


np.cumsum(np.arange(10)) # suma acumulada





import numpy.linalg as lng


A = np.random.randint(1,10,(3,3))
A


lng.inv(A)  # Inversa


lng.det(A)  # Determinante





A = np.random.randint(-9,10,(4,4))
x = np.random.randint(-9,10,(4,1))
b = A@x
A, x, b


x_solve = lng.solve(A,b)
print(x_solve)
np.allclose(x,x_solve)









