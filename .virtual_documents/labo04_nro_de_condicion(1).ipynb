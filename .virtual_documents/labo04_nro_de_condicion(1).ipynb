


import numpy as np
import matplotlib.pyplot as plt











matrix = np.random.randn(3,3)
matrix2 = np.random.randn(3,3)
nc1 = np.linalg.cond(matrix, p=2)
nc2 = np.linalg.cond(matrix2, p=2)
nc = np.linalg.cond((matrix + matrix2), p=2)
print(np.linalg.det(matrix))
print(np.linalg.det(matrix2))
print((nc1+nc2 == nc))






matrix = np.random.randn(3,3)
matrix2 = np.random.randn(3,3)
nc1 = np.linalg.cond(matrix, p=1)
nc2 = np.linalg.cond(matrix2, p=1)
nc = np.linalg.cond((matrix - matrix2), p=2)
print(np.linalg.det(matrix))
print(np.linalg.det(matrix2))
print((nc1-nc2 == nc))






matrix = np.random.randn(3,3)
matrix2 = np.random.randn(3,3)
nc1 = np.linalg.cond(matrix, p=2)
nc2 = np.linalg.cond(matrix2, p=2)
nc = np.linalg.cond((matrix @ matrix2), p=2)
print(np.linalg.det(matrix))
print(np.linalg.det(matrix2))
print((nc1*nc2 == nc))

















def matriz_B(n):
  B = np.eye(n, k=-1) + 4*np.eye(n, k=0) + np.eye(n, k=1)
  return B

def matriz_A(n):
    A = (1/n)*np.eye(n, k=0) + n**2*np.eye(n, k=n-1) + np.eye(n, k = 1-n)
    return A

def matriz_H(n):
    H = np.zeros((n,n))
    for i in range (0,n):
        for j in range(0,n):
            H[i][j] = 1/((i+1)+(j+1)-1)
    return H

print(matriz_A(4))
print(matriz_H(4))





B = matriz_B(2)
A = matriz_A(2)
H= matriz_H(2)

V = np.random.rand(2, 100) - 0.5
normas = np.linalg.norm(V, axis=0)
V = V/normas
BV = B@V
AV = A@V
HV = H@V

plt.figure()
plt.scatter(V[0], V[1], label = "v")
plt.scatter(BV[0], BV[1], label = "Bv")
plt.legend()

plt.figure()
plt.scatter(V[0], V[1], label = "v")
plt.scatter(AV[0], AV[1], label = "Av")
plt.legend()

plt.figure()
plt.scatter(V[0], V[1], label = "v")
plt.scatter(HV[0], HV[1], label = "Hv")
plt.legend()

plt.show()






def vector_condicion(M, N):
    res = np.array([])
    for i in range (1,N+1):
        sub_matriz = M[:i+1,:i+1]
        cond_i = np.linalg.cond(sub_matriz, p=2)
        res = np.append(res, np.array([cond_i]))
    return res

A = np.random.randn(3,3)
print(vector_condicion(A,3))





An = matriz_A(10)
Bn = matriz_B(10)
Hn= matriz_H(10)

x= np.arange(1,11)
y= vector_condicion(An, 10)

plt.figure()
plt.plot(x, y)
plt.yscale('log')

y= vector_condicion(Bn, 10)
plt.figure()
plt.plot(x, y)
#plt.yscale('log')

y= vector_condicion(Hn, 10)
plt.figure()
plt.plot(x, y)
plt.yscale('log')

plt.show()








Hn= matriz_H(50)
x= np.arange(1,51)
y= vector_condicion(Hn, 50)
plt.figure()
plt.plot(x, y)
plt.yscale('log')

plt.show()








A = np.array([[3.0, 0, 0], [0, 5/4, 3/4], [0, 3/4, 5/4]])





cond_inf = np.linalg.cond(A, p=np.inf)
print(cond_inf)





x= 1e-4
y=6
Eb = x/y
print(Eb)





b = np.array([3,2,2])
x = np.array([1,1,1])
norma_deseada = np.linalg.norm(b, ord=np.inf) * Eb
print(norma_deseada)

error_a = np.random.randn(3)
norma_a = np.linalg.norm(error_a, ord=np.inf)
error_a = error_a * (norma_deseada/norma_a)
print(np.linalg.norm(error_a, ord=np.inf))
print(error_a)

sol = np.linalg.solve(A, b+error_a)
print(sol)

error_abs_x = sol - x
norma_error = np.linalg.norm(error_abs_x, ord=np.inf)
print(norma_error)


######EJ 18 
def vectoresNorma1():
    res = []
    while len(res)<100 :
        v = np.random.randn(3)
        n = np.linalg.norm(v, 2)
        if n != 0:
             res.append(v/n)

    return res

def max(a,b):
    if a > b:
        return a
    else:
        return b

def aproxN2(A):
    normaA = np.linalg.norm(A,2)
    vectores = vectoresNorma1()
    s = [0]
    for i in range (1,100):
        normax = np.linalg.norm(vectores[i],2)
        Ax = A@vectores[i]
        normaAx = np.linalg.norm(Ax, 2)
        sk1 = max(s[i-1], (normaAx/normax))
        s.append(sk1)

    x = np.arange(1,101)              
    plt.figure()
    plt.scatter(x, s, label="Sk")
    plt.scatter(101, normaA, label = "norma A")
    plt.legend()
    

    plt.show()
    


A = np.random.randn(3,3)
aproxN2(A)
    
    
