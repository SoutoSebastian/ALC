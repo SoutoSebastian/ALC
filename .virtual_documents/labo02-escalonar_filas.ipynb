


import numpy as np

def escalonar_filas(M):
    """ 
        Retorna la Matriz Escalonada por Filas 
    """
    A = np.copy(M)
    if (issubclass(A.dtype.type, np.integer)):
        A = A.astype(float)

    # Si A no tiene filas o columnas, ya esta escalonada
    f, c = A.shape
    if f == 0 or c == 0:
        return A

    # buscamos primer elemento no nulo de la primera columna
    i = 0
    
    while i < f and A[i,0] == 0:
        i += 1

    if i == f:
        # si todos los elementos de la primera columna son ceros
        # escalonamos filas desde la segunda columna
        B = escalonar_filas(A[:,1:])
        
        # y volvemos a agregar la primera columna de zeros
        return np.block([A[:,:1], B])


    # intercambiamos filas i <-> 0, pues el primer cero aparece en la fila i
    if i > 0:
        A[[0,i],:] = A[[i,0],:]

    # PASO DE TRIANGULACION GAUSSIANA:
    # a las filas subsiguientes les restamos un multiplo de la primera
    A[1:,:] -= (A[0,:] / A[0,0]) * A[1:,0:1]

    # escalonamos desde la segunda fila y segunda columna en adelante
    B = escalonar_filas(A[1:,1:])

    # reconstruimos la matriz por bloques adosando a B la primera fila 
    # y la primera columna (de ceros)
    return np.block([ [A[:1,:]], [ A[1:,:1], B] ])


# esto es para resolver la practica 1
A = np.array([[1j,-(1+1j),0],[1,-2,1],[1,2j,-1]])
print(A)


print(escalonar_filas(A))


A = np.array([[2,-1+1j,0,1],[-1,3,-3j,5]])
print(A)


print(escalonar_filas(A))


print(escalonar_filas(A))


# OJO... puede hacer algunas operaciones de cambios de fila!
A = np.array([[1,2,3,4], [1,2,3,4],[5,6,7,8],[9,10,11,12]])
print(A)


print(escalonar_filas(A))


A = np.array([[5,3,11],[15,9,33],[20,12,44]])
print(escalonar_filas(A))


A = np.array([[5,3,11],[15,9,33],[20,12,55]])
print(escalonar_filas(A))








import time


# Matrices con numeros aleatorios
A = np.random.rand(10,10)
print(A)


A = np.random.rand(100,100)
start = time.time()
B = escalonar_filas(A)
end = time.time()
t1 = end - start
print(t1)


A = np.random.rand(200,200)
start = time.time()
B = escalonar_filas(A)
end = time.time()
t2 = end - start
print(t2)


A = np.random.rand(300,300)
start = time.time()
B = escalonar_filas(A)
end = time.time()
t3 = end - start
print(t3)


A = np.random.rand(400,400)
start = time.time()
B = escalonar_filas(A)
end = time.time()
t4 = end - start
print(t4)


import matplotlib.pyplot as plt
x = np.array([100, 200, 300, 400])
t = np.array([t1, t2, t3, t4])
plt.title("Función escalonar_filas")
plt.xlabel("dimensión matriz")
plt.ylabel("tiempo (seg.)")
plt.scatter(x,t)



